{
 "cells": [
  {
   "cell_type": "code",
   "execution_count": 6,
   "metadata": {},
   "outputs": [],
   "source": [
    "import numpy as np\n",
    "import sys\n",
    "import torch"
   ]
  },
  {
   "cell_type": "code",
   "execution_count": 7,
   "metadata": {},
   "outputs": [
    {
     "name": "stdout",
     "output_type": "stream",
     "text": [
      "Reading File...\n"
     ]
    }
   ],
   "source": [
    "def readfile(path):\n",
    "    print(\"Reading File...\")\n",
    "    x_train = []\n",
    "    x_label = []\n",
    "    val_data = []\n",
    "    val_label = []\n",
    "\n",
    "    raw_train = np.genfromtxt(path, delimiter=',', dtype=str, skip_header=1)\n",
    "    for i in range(len(raw_train)):\n",
    "        tmp = np.array(raw_train[i, 1].split(' ')).reshape(1, 48, 48)\n",
    "        if (i % 10 == 0):\n",
    "            val_data.append(tmp)\n",
    "            val_label.append(raw_train[i][0])\n",
    "        else:\n",
    "            x_train.append(tmp)\n",
    "            x_train.append(np.flip(tmp, axis=2))    # simple example of data augmentation\n",
    "            x_label.append(raw_train[i][0])\n",
    "            x_label.append(raw_train[i][0])\n",
    "\n",
    "    x_train = np.array(x_train, dtype=float) / 255.0\n",
    "    val_data = np.array(val_data, dtype=float) / 255.0\n",
    "    x_label = np.array(x_label, dtype=int)\n",
    "    val_label = np.array(val_label, dtype=int)\n",
    "    x_train = torch.FloatTensor(x_train)\n",
    "    val_data = torch.FloatTensor(val_data)\n",
    "    x_label = torch.LongTensor(x_label)\n",
    "    val_label = torch.LongTensor(val_label)\n",
    "\n",
    "    return x_train, x_label, val_data, val_label\n",
    "\n",
    "x_train, x_label, val_data, val_label = readfile(\"./train.csv\")    # 'train.csv'\n"
   ]
  },
  {
   "cell_type": "code",
   "execution_count": 10,
   "metadata": {},
   "outputs": [
    {
     "data": {
      "text/plain": [
       "torch.Size([51676, 1, 48, 48])"
      ]
     },
     "execution_count": 10,
     "metadata": {},
     "output_type": "execute_result"
    }
   ],
   "source": [
    "x_train.shape"
   ]
  },
  {
   "cell_type": "code",
   "execution_count": null,
   "metadata": {},
   "outputs": [],
   "source": []
  }
 ],
 "metadata": {
  "kernelspec": {
   "display_name": "Python [conda env:pytorch]",
   "language": "python",
   "name": "conda-env-pytorch-py"
  },
  "language_info": {
   "codemirror_mode": {
    "name": "ipython",
    "version": 3
   },
   "file_extension": ".py",
   "mimetype": "text/x-python",
   "name": "python",
   "nbconvert_exporter": "python",
   "pygments_lexer": "ipython3",
   "version": "3.6.11"
  }
 },
 "nbformat": 4,
 "nbformat_minor": 4
}
