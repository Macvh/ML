{
 "cells": [
  {
   "cell_type": "markdown",
   "metadata": {},
   "source": [
    "## 数据归一化处理"
   ]
  },
  {
   "cell_type": "code",
   "execution_count": 1,
   "metadata": {},
   "outputs": [],
   "source": [
    "import numpy as np\n",
    "import matplotlib.pyplot as plt"
   ]
  },
  {
   "cell_type": "markdown",
   "metadata": {},
   "source": [
    "## 最值归一化 Normalization"
   ]
  },
  {
   "cell_type": "code",
   "execution_count": 2,
   "metadata": {},
   "outputs": [],
   "source": [
    "x = np.random.randint(0,100,size=100)"
   ]
  },
  {
   "cell_type": "code",
   "execution_count": 3,
   "metadata": {},
   "outputs": [
    {
     "data": {
      "text/plain": [
       "array([ 5, 68, 96, 44, 37, 21, 48, 59, 67, 54, 64, 71, 11, 29, 52, 22, 42,\n",
       "       59, 95, 52, 34, 72, 32, 70, 51, 92,  2, 70, 39, 77, 21, 96, 91, 87,\n",
       "        7, 71, 75, 53, 16, 33, 15, 29, 85,  9, 52, 93, 78, 96, 95, 74,  3,\n",
       "       81, 47,  0, 68,  2, 80, 97, 34, 44, 21, 46, 30, 19, 36, 70, 25,  5,\n",
       "       88, 64, 39, 29, 83, 88, 44, 72,  3, 66, 83, 38, 71, 84, 10, 56, 99,\n",
       "       80, 53, 73, 25, 16, 44,  9, 50, 14, 65, 56, 17, 21, 84, 58])"
      ]
     },
     "execution_count": 3,
     "metadata": {},
     "output_type": "execute_result"
    }
   ],
   "source": [
    "x"
   ]
  },
  {
   "cell_type": "code",
   "execution_count": 4,
   "metadata": {},
   "outputs": [
    {
     "data": {
      "text/plain": [
       "array([0.05050505, 0.68686869, 0.96969697, 0.44444444, 0.37373737,\n",
       "       0.21212121, 0.48484848, 0.5959596 , 0.67676768, 0.54545455,\n",
       "       0.64646465, 0.71717172, 0.11111111, 0.29292929, 0.52525253,\n",
       "       0.22222222, 0.42424242, 0.5959596 , 0.95959596, 0.52525253,\n",
       "       0.34343434, 0.72727273, 0.32323232, 0.70707071, 0.51515152,\n",
       "       0.92929293, 0.02020202, 0.70707071, 0.39393939, 0.77777778,\n",
       "       0.21212121, 0.96969697, 0.91919192, 0.87878788, 0.07070707,\n",
       "       0.71717172, 0.75757576, 0.53535354, 0.16161616, 0.33333333,\n",
       "       0.15151515, 0.29292929, 0.85858586, 0.09090909, 0.52525253,\n",
       "       0.93939394, 0.78787879, 0.96969697, 0.95959596, 0.74747475,\n",
       "       0.03030303, 0.81818182, 0.47474747, 0.        , 0.68686869,\n",
       "       0.02020202, 0.80808081, 0.97979798, 0.34343434, 0.44444444,\n",
       "       0.21212121, 0.46464646, 0.3030303 , 0.19191919, 0.36363636,\n",
       "       0.70707071, 0.25252525, 0.05050505, 0.88888889, 0.64646465,\n",
       "       0.39393939, 0.29292929, 0.83838384, 0.88888889, 0.44444444,\n",
       "       0.72727273, 0.03030303, 0.66666667, 0.83838384, 0.38383838,\n",
       "       0.71717172, 0.84848485, 0.1010101 , 0.56565657, 1.        ,\n",
       "       0.80808081, 0.53535354, 0.73737374, 0.25252525, 0.16161616,\n",
       "       0.44444444, 0.09090909, 0.50505051, 0.14141414, 0.65656566,\n",
       "       0.56565657, 0.17171717, 0.21212121, 0.84848485, 0.58585859])"
      ]
     },
     "execution_count": 4,
     "metadata": {},
     "output_type": "execute_result"
    }
   ],
   "source": [
    "(x - np.min(x))/ (np.max(x) - np.min(x))"
   ]
  },
  {
   "cell_type": "code",
   "execution_count": 5,
   "metadata": {},
   "outputs": [],
   "source": [
    "x = np.random.randint(0, 100, (50,2))"
   ]
  },
  {
   "cell_type": "code",
   "execution_count": 6,
   "metadata": {},
   "outputs": [
    {
     "data": {
      "text/plain": [
       "array([[84, 30],\n",
       "       [97, 78],\n",
       "       [26,  1],\n",
       "       [49, 36],\n",
       "       [46, 55],\n",
       "       [ 0, 98],\n",
       "       [26, 51],\n",
       "       [89, 73],\n",
       "       [73, 16],\n",
       "       [44, 23]])"
      ]
     },
     "execution_count": 6,
     "metadata": {},
     "output_type": "execute_result"
    }
   ],
   "source": [
    "x[:10,:]"
   ]
  },
  {
   "cell_type": "code",
   "execution_count": 7,
   "metadata": {},
   "outputs": [],
   "source": [
    "X = np.array(x,dtype=float)"
   ]
  },
  {
   "cell_type": "code",
   "execution_count": 8,
   "metadata": {},
   "outputs": [
    {
     "data": {
      "text/plain": [
       "array([[84., 30.],\n",
       "       [97., 78.],\n",
       "       [26.,  1.],\n",
       "       [49., 36.],\n",
       "       [46., 55.],\n",
       "       [ 0., 98.],\n",
       "       [26., 51.],\n",
       "       [89., 73.],\n",
       "       [73., 16.],\n",
       "       [44., 23.]])"
      ]
     },
     "execution_count": 8,
     "metadata": {},
     "output_type": "execute_result"
    }
   ],
   "source": [
    "X[:10,:]"
   ]
  },
  {
   "cell_type": "code",
   "execution_count": 9,
   "metadata": {},
   "outputs": [],
   "source": [
    "X[:,0] = (X[:,0] - np.min(X[:,0])) / (np.max(X[:,0] - np.min(X[:,0])))"
   ]
  },
  {
   "cell_type": "code",
   "execution_count": 10,
   "metadata": {},
   "outputs": [],
   "source": [
    "X[:,1] = (X[:,1] - np.min(X[:,1])) / (np.max(X[:,1] - np.min(X[:,1])))"
   ]
  },
  {
   "cell_type": "code",
   "execution_count": 11,
   "metadata": {},
   "outputs": [
    {
     "data": {
      "text/plain": [
       "array([[0.86597938, 0.30612245],\n",
       "       [1.        , 0.79591837],\n",
       "       [0.26804124, 0.01020408],\n",
       "       [0.50515464, 0.36734694],\n",
       "       [0.4742268 , 0.56122449],\n",
       "       [0.        , 1.        ],\n",
       "       [0.26804124, 0.52040816],\n",
       "       [0.91752577, 0.74489796],\n",
       "       [0.75257732, 0.16326531],\n",
       "       [0.45360825, 0.23469388]])"
      ]
     },
     "execution_count": 11,
     "metadata": {},
     "output_type": "execute_result"
    }
   ],
   "source": [
    "X[:10,:]"
   ]
  },
  {
   "cell_type": "code",
   "execution_count": 12,
   "metadata": {},
   "outputs": [
    {
     "data": {
      "image/png": "[encoded data removed]",
      "text/plain": [
       "<Figure size 432x288 with 1 Axes>"
      ]
     },
     "metadata": {},
     "output_type": "display_data"
    }
   ],
   "source": [
    "plt.scatter(X[:,0],X[:,1])\n",
    "plt.show()"
   ]
  },
  {
   "cell_type": "code",
   "execution_count": 13,
   "metadata": {},
   "outputs": [
    {
     "data": {
      "text/plain": [
       "0.4909278350515464"
      ]
     },
     "execution_count": 13,
     "metadata": {},
     "output_type": "execute_result"
    }
   ],
   "source": [
    "np.mean(X[:,0])"
   ]
  },
  {
   "cell_type": "code",
   "execution_count": 14,
   "metadata": {},
   "outputs": [
    {
     "data": {
      "text/plain": [
       "0.30220003172962007"
      ]
     },
     "execution_count": 14,
     "metadata": {},
     "output_type": "execute_result"
    }
   ],
   "source": [
    "np.std(X[:,0])"
   ]
  },
  {
   "cell_type": "code",
   "execution_count": 15,
   "metadata": {},
   "outputs": [
    {
     "data": {
      "text/plain": [
       "0.5155102040816326"
      ]
     },
     "execution_count": 15,
     "metadata": {},
     "output_type": "execute_result"
    }
   ],
   "source": [
    "np.mean(X[:,1])"
   ]
  },
  {
   "cell_type": "code",
   "execution_count": 16,
   "metadata": {},
   "outputs": [
    {
     "data": {
      "text/plain": [
       "0.29314847203347344"
      ]
     },
     "execution_count": 16,
     "metadata": {},
     "output_type": "execute_result"
    }
   ],
   "source": [
    "np.std(X[:,1])"
   ]
  },
  {
   "cell_type": "markdown",
   "metadata": {},
   "source": [
    "## 均值方差归一化 Standardization"
   ]
  },
  {
   "cell_type": "code",
   "execution_count": 17,
   "metadata": {},
   "outputs": [],
   "source": [
    "X2 = np.random.randint(0,100,(50,2))"
   ]
  },
  {
   "cell_type": "code",
   "execution_count": 18,
   "metadata": {},
   "outputs": [],
   "source": [
    "X2 = np.array(X2, dtype=float)"
   ]
  },
  {
   "cell_type": "code",
   "execution_count": 19,
   "metadata": {},
   "outputs": [],
   "source": [
    "X2[:,0] = (X2[:,0] - np.mean(X2[:,0])) / np.std(X2[:,0])"
   ]
  },
  {
   "cell_type": "code",
   "execution_count": 20,
   "metadata": {},
   "outputs": [],
   "source": [
    "X2[:,1] = (X2[:,1] - np.mean(X2[:,1])) / np.std(X2[:,1])"
   ]
  },
  {
   "cell_type": "code",
   "execution_count": 21,
   "metadata": {},
   "outputs": [
    {
     "data": {
      "image/png": "[encoded data removed]",
      "text/plain": [
       "<Figure size 432x288 with 1 Axes>"
      ]
     },
     "metadata": {},
     "output_type": "display_data"
    }
   ],
   "source": [
    "plt.scatter(X2[:,0], X2[:,1])\n",
    "plt.show()"
   ]
  },
  {
   "cell_type": "code",
   "execution_count": 22,
   "metadata": {},
   "outputs": [
    {
     "data": {
      "text/plain": [
       "-1.4599432773820808e-16"
      ]
     },
     "execution_count": 22,
     "metadata": {},
     "output_type": "execute_result"
    }
   ],
   "source": [
    "np.mean(X2[:,0])"
   ]
  },
  {
   "cell_type": "code",
   "execution_count": 23,
   "metadata": {},
   "outputs": [
    {
     "data": {
      "text/plain": [
       "0.9999999999999999"
      ]
     },
     "execution_count": 23,
     "metadata": {},
     "output_type": "execute_result"
    }
   ],
   "source": [
    "np.std(X2[:,0])"
   ]
  },
  {
   "cell_type": "code",
   "execution_count": 24,
   "metadata": {},
   "outputs": [
    {
     "data": {
      "text/plain": [
       "9.769962616701378e-17"
      ]
     },
     "execution_count": 24,
     "metadata": {},
     "output_type": "execute_result"
    }
   ],
   "source": [
    "np.mean(X2[:,1])"
   ]
  },
  {
   "cell_type": "code",
   "execution_count": 25,
   "metadata": {},
   "outputs": [
    {
     "data": {
      "text/plain": [
       "1.0"
      ]
     },
     "execution_count": 25,
     "metadata": {},
     "output_type": "execute_result"
    }
   ],
   "source": [
    "np.std(X2[:,1])"
   ]
  },
  {
   "cell_type": "code",
   "execution_count": null,
   "metadata": {},
   "outputs": [],
   "source": []
  }
 ],
 "metadata": {
  "kernelspec": {
   "display_name": "Python 3",
   "language": "python",
   "name": "python3"
  },
  "language_info": {
   "codemirror_mode": {
    "name": "ipython",
    "version": 3
   },
   "file_extension": ".py",
   "mimetype": "text/x-python",
   "name": "python",
   "nbconvert_exporter": "python",
   "pygments_lexer": "ipython3",
   "version": "3.6.5"
  }
 },
 "nbformat": 4,
 "nbformat_minor": 2
}
